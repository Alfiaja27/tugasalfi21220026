{
 "cells": [
  {
   "cell_type": "code",
   "execution_count": 27,
   "id": "a02252f0",
   "metadata": {},
   "outputs": [
    {
     "name": "stdout",
     "output_type": "stream",
     "text": [
      "Masukkan kata: Avocado\n",
      "Pilih bahasa (1. Indonesia, 2. Inggris): 2\n",
      "Alpukat\n"
     ]
    }
   ],
   "source": [
    "# Kamus Bahasa Indonesia-Inggris\n",
    "kamus = {\n",
    "    \"Belimbing\": \"Star fruit\",\n",
    "    \"Jeruk\": \"Orange\",\n",
    "    \"Kelengkeng\": \"Longan\",\n",
    "    \"Anggur\": \"Grappe\",\n",
    "    \"Mangga\": \"Mango\",\n",
    "    \"Alpukat\": \"Avocado\",\n",
    "    \"Jambu biji\": \"Guava\",\n",
    "    \"Buah naga\": \"Dragon fruit\", \n",
    "}\n",
    "\n",
    "# Fungsi untuk menerjemahkan kata dari Bahasa Indonesia ke Bahasa Inggris\n",
    "def translate_indo_to_eng(kata):\n",
    "    return kamus.get(kata.lower(), \"Kata tidak ditemukan dalam kamus\")\n",
    "\n",
    "# Fungsi untuk menerjemahkan kata dari Bahasa Inggris ke Bahasa Indonesia\n",
    "def translate_eng_to_indo(kata):\n",
    "    for key, value in kamus.items():\n",
    "        if value.lower() == kata.lower():\n",
    "            return key\n",
    "    return \"Kata tidak ditemukan dalam kamus\"\n",
    "\n",
    "# Input kata dari pengguna dan pilih bahasa\n",
    "kata = input(\"Masukkan kata: \")\n",
    "bahasa = input(\"Pilih bahasa (1. Indonesia, 2. Inggris): \")\n",
    "\n",
    "# Terjemahkan kata sesuai bahasa yang dipilih\n",
    "if bahasa == \"1\":\n",
    "    print(translate_indo_to_eng(kata))\n",
    "elif bahasa == \"2\":\n",
    "    print(translate_eng_to_indo(kata))\n",
    "else:\n",
    "    print(\"Pilihan bahasa tidak valid\")\n"
   ]
  },
  {
   "cell_type": "code",
   "execution_count": null,
   "id": "4b99ab7d",
   "metadata": {},
   "outputs": [],
   "source": []
  },
  {
   "cell_type": "code",
   "execution_count": null,
   "id": "03071950",
   "metadata": {},
   "outputs": [],
   "source": []
  }
 ],
 "metadata": {
  "kernelspec": {
   "display_name": "Python 3 (ipykernel)",
   "language": "python",
   "name": "python3"
  },
  "language_info": {
   "codemirror_mode": {
    "name": "ipython",
    "version": 3
   },
   "file_extension": ".py",
   "mimetype": "text/x-python",
   "name": "python",
   "nbconvert_exporter": "python",
   "pygments_lexer": "ipython3",
   "version": "3.10.8"
  },
  "vp": {
   "vp_config_version": "1.0.0",
   "vp_menu_width": 273,
   "vp_note_display": false,
   "vp_note_width": 0,
   "vp_position": {
    "width": 278
   },
   "vp_section_display": false,
   "vp_signature": "VisualPython"
  }
 },
 "nbformat": 4,
 "nbformat_minor": 5
}
