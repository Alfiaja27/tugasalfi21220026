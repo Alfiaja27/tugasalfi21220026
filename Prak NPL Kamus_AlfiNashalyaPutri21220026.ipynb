{
 "cells": [
  {
   "cell_type": "code",
   "execution_count": 1,
   "id": "06301cd8",
   "metadata": {},
   "outputs": [
    {
     "name": "stdout",
     "output_type": "stream",
     "text": [
      "apple\n",
      "Kata tidak ditemukan\n"
     ]
    }
   ],
   "source": [
    "# Membuat kamus Bahasa Indonesia-Inggris\n",
    "dictionary = {\n",
    "    'apel': 'apple',\n",
    "    'jeruk': 'orange',\n",
    "    'pisang': 'banana',\n",
    "    'mangga': 'mango',\n",
    "    'semangka': 'watermelon'\n",
    "}\n",
    "\n",
    "# Fungsi untuk melakukan translate dari Bahasa Indonesia ke Bahasa Inggris\n",
    "def translate(word):\n",
    "    return dictionary.get(word.lower(), 'Kata tidak ditemukan')\n",
    "\n",
    "# Contoh penggunaan fungsi translate\n",
    "print(translate('apel')) # Output: apple\n",
    "print(translate('manggis')) # Output: Kata tidak ditemukan."
   ]
  },
  {
   "cell_type": "code",
   "execution_count": 2,
   "id": "94adbf85",
   "metadata": {},
   "outputs": [
    {
     "name": "stdout",
     "output_type": "stream",
     "text": [
      "{'apel': 'apple', 'jeruk': 'orange', 'pisang': 'banana', 'mangga': 'mango', 'semangka': 'watermelon', 'anggur': 'grape'}\n"
     ]
    }
   ],
   "source": [
    " # Membuat kamus Bahasa Indonesia-Inggris\n",
    "dictionary = {\n",
    "    'apel': 'apple',\n",
    "    'jeruk': 'orange',\n",
    "    'pisang': 'banana',\n",
    "    'mangga': 'mango',\n",
    "    'semangka': 'watermelon'\n",
    "}\n",
    "\n",
    "# Fungsi untuk menambahkan kata ke dalam kamus\n",
    "def add_word(indo_word, eng_word):\n",
    "    dictionary[indo_word.lower()] = eng_word.lower()\n",
    "\n",
    "# Contoh penggunaan fungsi add_word untuk menambahkan kata baru\n",
    "add_word('anggur', 'grape')\n",
    "print(dictionary) # Output: {'apel': 'apple', 'jeruk': 'orange', 'pisang': 'banana', 'mangga': 'mango', 'semangka': 'watermelon', 'anggur': 'grape'}\n"
   ]
  },
  {
   "cell_type": "code",
   "execution_count": 4,
   "id": "6673999c",
   "metadata": {},
   "outputs": [
    {
     "name": "stdout",
     "output_type": "stream",
     "text": [
      "orange\n",
      "Kata tidak ditemukan\n",
      "{'apel': 'apple', 'jeruk': 'orange', 'pisang': 'banana', 'mangga': 'mango', 'semangka': 'watermelon', 'anggur': 'grape'}\n"
     ]
    }
   ],
   "source": [
    "# Membuat kamus Bahasa Indonesia-Inggris\n",
    "dictionary = {\n",
    "    'apel': 'apple',\n",
    "    'jeruk': 'orange',\n",
    "    'pisang': 'banana',\n",
    "    'mangga': 'mango',\n",
    "    'semangka': 'watermelon'\n",
    "}\n",
    "\n",
    "# Fungsi untuk melakukan translate dari Bahasa Indonesia ke Bahasa Inggris\n",
    "def translate(word):\n",
    "    return dictionary.get(word.lower(), 'Kata tidak ditemukan')\n",
    "\n",
    "# Fungsi untuk menambahkan kata ke dalam kamus\n",
    "def add_word(indo_word, eng_word):\n",
    "    dictionary[indo_word.lower()] = eng_word.lower()\n",
    "\n",
    "# Contoh penggunaan fungsi translate\n",
    "print(translate('jeruk')) # Output: orange\n",
    "print(translate('durian')) # Output: Kata tidak ditemukan\n",
    "\n",
    "# Contoh penggunaan fungsi add_word untuk menambahkan kata baru\n",
    "add_word('anggur', 'grape')\n",
    "print(dictionary) # Output: {'apel': 'apple', 'jeruk': 'orange', 'pisang': 'banana', 'mangga': 'mango', 'semangka': 'watermelon', 'anggur': 'grape'}"
   ]
  },
  {
   "cell_type": "code",
   "execution_count": 5,
   "id": "778e3414",
   "metadata": {},
   "outputs": [
    {
     "name": "stdout",
     "output_type": "stream",
     "text": [
      "Kata tidak ditemukan dalam kamus Kata tidak ditemukan dalam kamus Kata tidak ditemukan dalam kamus Kata tidak ditemukan dalam kamus Kata tidak ditemukan dalam kamus apple orange Kata tidak ditemukan dalam kamus mango \n"
     ]
    }
   ],
   "source": [
    " # import library\n",
    "from Sastrawi.Stemmer.StemmerFactory import StemmerFactory\n",
    "\n",
    "# membuat objek stemmer\n",
    "factory = StemmerFactory()\n",
    "stemmer = factory.create_stemmer()\n",
    "\n",
    "# kamus Bahasa Indonesia-Inggris\n",
    "kamus = {\n",
    "    \"apel\": \"apple\",\n",
    "    \"jeruk\": \"orange\",\n",
    "    \"mangga\": \"mango\",\n",
    "    \"pisang\": \"banana\",\n",
    "    \"semangka\": \"watermelon\",\n",
    "    \"melon\": \"melon\",\n",
    "    \"jambu\": \"guava\",\n",
    "    \"durian\": \"durian\",\n",
    "    \"stroberi\": \"strawberry\",\n",
    "    \"kiwi\": \"kiwi\",\n",
    "}\n",
    "\n",
    "# fungsi untuk melakukan translate dari Bahasa Indonesia ke Bahasa Inggris\n",
    "def translate(text):\n",
    "    # stemming kata pada teks\n",
    "    stemmed_text = stemmer.stem(text)\n",
    "    # mencari kata dalam kamus\n",
    "    if stemmed_text in kamus:\n",
    "        return kamus[stemmed_text]\n",
    "    else:\n",
    "        return \"Kata tidak ditemukan dalam kamus\"\n",
    "\n",
    "# contoh penggunaan fungsi translate\n",
    "text = \"Saya suka makan buah-buahan, seperti apel, jeruk, dan mangga\"\n",
    "translated_text = \"\"\n",
    "for word in text.split():\n",
    "    translated_text += translate(word.lower()) + \" \"\n",
    "print(translated_text)"
   ]
  },
  {
   "cell_type": "code",
   "execution_count": 6,
   "id": "ee74f04b",
   "metadata": {},
   "outputs": [
    {
     "name": "stdout",
     "output_type": "stream",
     "text": [
      "saya suka makan buah star fruit dan kelengkeng.\n"
     ]
    }
   ],
   "source": [
    "# Kamus Bahasa Indonesia - Inggris\n",
    "kamus = {\n",
    "    \"belimbing\": \"star fruit\",\n",
    "    \"jeruk\": \"orange\",\n",
    "    \"kelengkeng\": \"longan\",\n",
    "    \"anggur\": \"grape\",\n",
    "    \"mangga\": \"mango\",\n",
    "    \"alpukat\": \"avocado\",\n",
    "    \"jambu biji\": \"guava\",\n",
    "    \"buah naga\": \"dragon fruit\",\n",
    "    # Tambahkan kata-kata lain di sini\n",
    "}\n",
    "\n",
    "# Fungsi untuk melakukan translate Bahasa Indonesia ke Bahasa Inggris\n",
    "def translate(text):\n",
    "    # Mengubah teks menjadi lowercase\n",
    "    text = text.lower()\n",
    "    \n",
    "    # Mengubah teks menjadi list kata-kata\n",
    "    words = text.split()\n",
    "    \n",
    "    # Membuat list untuk menampung hasil translate\n",
    "    translated_words = []\n",
    "    \n",
    "    # Melakukan translate untuk setiap kata dalam list words\n",
    "    for word in words:\n",
    "        if word in kamus:\n",
    "            translated_words.append(kamus[word])\n",
    "        else:\n",
    "            translated_words.append(word)\n",
    "    \n",
    "    # Menggabungkan kata-kata hasil translate menjadi sebuah kalimat\n",
    "    translated_text = \" \".join(translated_words)\n",
    "    \n",
    "    return translated_text\n",
    "\n",
    "# Contoh penggunaan\n",
    "text = \"Saya suka makan buah belimbing dan kelengkeng.\"\n",
    "translated_text = translate(text)\n",
    "print(translated_text)"
   ]
  },
  {
   "cell_type": "code",
   "execution_count": null,
   "id": "f84a7864",
   "metadata": {},
   "outputs": [],
   "source": []
  }
 ],
 "metadata": {
  "kernelspec": {
   "display_name": "Python 3 (ipykernel)",
   "language": "python",
   "name": "python3"
  },
  "language_info": {
   "codemirror_mode": {
    "name": "ipython",
    "version": 3
   },
   "file_extension": ".py",
   "mimetype": "text/x-python",
   "name": "python",
   "nbconvert_exporter": "python",
   "pygments_lexer": "ipython3",
   "version": "3.9.13"
  }
 },
 "nbformat": 4,
 "nbformat_minor": 5
}
